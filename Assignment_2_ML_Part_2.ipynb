{
  "nbformat": 4,
  "nbformat_minor": 0,
  "metadata": {
    "colab": {
      "provenance": []
    },
    "kernelspec": {
      "name": "python3",
      "display_name": "Python 3"
    },
    "language_info": {
      "name": "python"
    }
  },
  "cells": [
    {
      "cell_type": "code",
      "execution_count": 5,
      "metadata": {
        "id": "aUUYrbNe-yxS"
      },
      "outputs": [],
      "source": [
        "import pandas as pd\n",
        "import numpy as np\n",
        "from sklearn.model_selection import train_test_split\n",
        "from sklearn.linear_model import LinearRegression, Ridge, Lasso, ElasticNet\n",
        "from sklearn.metrics import mean_squared_error, r2_score\n",
        "from sklearn.datasets import load_diabetes"
      ]
    },
    {
      "cell_type": "markdown",
      "source": [
        "Importing the necesary libraries"
      ],
      "metadata": {
        "id": "Es24hXKW-0GC"
      }
    },
    {
      "cell_type": "code",
      "source": [
        "from sklearn.datasets import load_diabetes"
      ],
      "metadata": {
        "id": "454nvxTY-52A"
      },
      "execution_count": 6,
      "outputs": []
    },
    {
      "cell_type": "markdown",
      "source": [
        "Fetching dataset from sklearn - openML repository"
      ],
      "metadata": {
        "id": "6pNZsRF0-9eW"
      }
    },
    {
      "cell_type": "code",
      "source": [
        "dataset = load_diabetes()\n",
        "X = pd.DataFrame(dataset.data, columns=dataset.feature_names)\n",
        "y = pd.Series(dataset.target)"
      ],
      "metadata": {
        "id": "4zIcBfYC_KRu"
      },
      "execution_count": 7,
      "outputs": []
    },
    {
      "cell_type": "markdown",
      "source": [
        "Loading  the dataset"
      ],
      "metadata": {
        "id": "Hd_TODiT_uY0"
      }
    },
    {
      "cell_type": "code",
      "source": [
        "X_train, X_test, y_train, y_test = train_test_split(X, y, test_size=0.2, random_state=42)"
      ],
      "metadata": {
        "id": "FtPP7Las_2Qg"
      },
      "execution_count": 8,
      "outputs": []
    },
    {
      "cell_type": "markdown",
      "source": [
        "Split the data into training and testing sets"
      ],
      "metadata": {
        "id": "YgXK1dk0_3da"
      }
    },
    {
      "cell_type": "code",
      "source": [
        "models = {\n",
        "    'Linear Regression': LinearRegression(),\n",
        "    'Ridge Regression': Ridge(alpha=1.0),\n",
        "    'Lasso Regression': Lasso(alpha=0.1),\n",
        "    'ElasticNet Regression': ElasticNet(alpha=0.1, l1_ratio=0.5)\n",
        "}"
      ],
      "metadata": {
        "id": "hJ1FKN57_5r6"
      },
      "execution_count": 9,
      "outputs": []
    },
    {
      "cell_type": "markdown",
      "source": [
        "Initialize models"
      ],
      "metadata": {
        "id": "UDf_L_vf_8di"
      }
    },
    {
      "cell_type": "code",
      "source": [
        "results = {}"
      ],
      "metadata": {
        "id": "WNdo3JR9_-x-"
      },
      "execution_count": 10,
      "outputs": []
    },
    {
      "cell_type": "markdown",
      "source": [
        "Evaluate models"
      ],
      "metadata": {
        "id": "WMe6EMIyABCy"
      }
    },
    {
      "cell_type": "code",
      "source": [
        "for name, model in models.items():\n",
        "    model.fit(X_train, y_train)\n",
        "    y_pred = model.predict(X_test)\n",
        "    mse = mean_squared_error(y_test, y_pred)\n",
        "    r2 = r2_score(y_test, y_pred)\n",
        "    results[name] = {'MSE': mse, 'R2 Score': r2}\n",
        "    print(f\"{name} - MSE: {mse:.4f}, R2 Score: {r2:.4f}\")"
      ],
      "metadata": {
        "colab": {
          "base_uri": "https://localhost:8080/"
        },
        "id": "oP1e1qmMAC4H",
        "outputId": "31e4d605-c992-41b8-d4d1-f4544c15c6c2"
      },
      "execution_count": 11,
      "outputs": [
        {
          "output_type": "stream",
          "name": "stdout",
          "text": [
            "Linear Regression - MSE: 2900.1936, R2 Score: 0.4526\n",
            "Ridge Regression - MSE: 3077.4159, R2 Score: 0.4192\n",
            "Lasso Regression - MSE: 2798.1935, R2 Score: 0.4719\n",
            "ElasticNet Regression - MSE: 4775.4668, R2 Score: 0.0987\n"
          ]
        }
      ]
    },
    {
      "cell_type": "markdown",
      "source": [
        "Convert results to DataFrame"
      ],
      "metadata": {
        "id": "kzMG1HPoAGKR"
      }
    },
    {
      "cell_type": "code",
      "source": [
        "results_df = pd.DataFrame(results).T\n",
        "print(\"\\nModel Comparison:\\n\", results_df)"
      ],
      "metadata": {
        "colab": {
          "base_uri": "https://localhost:8080/"
        },
        "id": "2xGh6YpjAKKR",
        "outputId": "b328fe7a-50b1-453a-edd3-84af1e07c132"
      },
      "execution_count": 12,
      "outputs": [
        {
          "output_type": "stream",
          "name": "stdout",
          "text": [
            "\n",
            "Model Comparison:\n",
            "                                MSE  R2 Score\n",
            "Linear Regression      2900.193628  0.452603\n",
            "Ridge Regression       3077.415939  0.419153\n",
            "Lasso Regression       2798.193485  0.471855\n",
            "ElasticNet Regression  4775.466767  0.098654\n"
          ]
        }
      ]
    }
  ]
}